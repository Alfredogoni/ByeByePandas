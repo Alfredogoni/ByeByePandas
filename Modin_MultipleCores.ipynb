{
 "cells": [
  {
   "cell_type": "code",
   "execution_count": 1,
   "metadata": {},
   "outputs": [],
   "source": [
    "link=r'C:\\Users\\piyus\\Documents\\AlternativesToPandas\\5m-Sales-Records\\5m Sales Records.csv'  ##Path to your file. "
   ]
  },
  {
   "cell_type": "code",
   "execution_count": 2,
   "metadata": {},
   "outputs": [],
   "source": [
    "##Use the following command to install MODIN \n",
    "#conda install -c conda-forge modin"
   ]
  },
  {
   "cell_type": "code",
   "execution_count": 3,
   "metadata": {},
   "outputs": [],
   "source": [
    "#pip install modin[all]    ##### https://modin.readthedocs.io/en/latest/"
   ]
  },
  {
   "cell_type": "code",
   "execution_count": 4,
   "metadata": {},
   "outputs": [
    {
     "data": {
      "text/plain": [
       "12"
      ]
     },
     "execution_count": 4,
     "metadata": {},
     "output_type": "execute_result"
    }
   ],
   "source": [
    "import psutil\n",
    "psutil.cpu_count() #Ray will use psutil.cpu_count() to determine the number of CPUs"
   ]
  },
  {
   "cell_type": "code",
   "execution_count": 5,
   "metadata": {},
   "outputs": [
    {
     "data": {
      "text/plain": [
       "12"
      ]
     },
     "execution_count": 5,
     "metadata": {},
     "output_type": "execute_result"
    }
   ],
   "source": [
    "import multiprocessing\n",
    "multiprocessing.cpu_count() ##This refelcts the logical processors on your computer. You can check on TASK MANAGER > Performance"
   ]
  },
  {
   "cell_type": "code",
   "execution_count": 6,
   "metadata": {},
   "outputs": [
    {
     "data": {
      "text/plain": [
       "12"
      ]
     },
     "execution_count": 6,
     "metadata": {},
     "output_type": "execute_result"
    }
   ],
   "source": [
    "import os\n",
    "os.cpu_count()    ## https://docs.python.org/3/library/os.html#os.cpu_count"
   ]
  },
  {
   "cell_type": "code",
   "execution_count": 7,
   "metadata": {},
   "outputs": [],
   "source": [
    "#!conda install ray"
   ]
  },
  {
   "cell_type": "code",
   "execution_count": 8,
   "metadata": {},
   "outputs": [],
   "source": [
    " #pip install ray"
   ]
  },
  {
   "cell_type": "code",
   "execution_count": 9,
   "metadata": {},
   "outputs": [],
   "source": [
    "import time\n",
    "import ray  "
   ]
  },
  {
   "cell_type": "code",
   "execution_count": 10,
   "metadata": {},
   "outputs": [
    {
     "name": "stderr",
     "output_type": "stream",
     "text": [
      "2020-12-25 12:17:06,199\tINFO services.py:1090 -- View the Ray dashboard at \u001b[1m\u001b[32mhttp://127.0.0.1:8265\u001b[39m\u001b[22m\n"
     ]
    },
    {
     "name": "stdout",
     "output_type": "stream",
     "text": [
      "2.403534412384033\n"
     ]
    }
   ],
   "source": [
    "ray.init(num_cpus=6)\n",
    "import modin.pandas as mpd\n",
    "start=time.time()\n",
    "df_6cores=mpd.read_csv(link)\n",
    "end=time.time()\n",
    "ray.shutdown()\n",
    "t_6 = end-start\n",
    "print(t_6)"
   ]
  },
  {
   "cell_type": "code",
   "execution_count": 11,
   "metadata": {},
   "outputs": [
    {
     "name": "stderr",
     "output_type": "stream",
     "text": [
      "2020-12-25 11:58:31,370\tINFO services.py:1090 -- View the Ray dashboard at \u001b[1m\u001b[32mhttp://127.0.0.1:8265\u001b[39m\u001b[22m\n"
     ]
    },
    {
     "name": "stdout",
     "output_type": "stream",
     "text": [
      "2.6302552223205566\n"
     ]
    },
    {
     "name": "stderr",
     "output_type": "stream",
     "text": [
      "2020-12-25 11:58:42,896\tINFO services.py:1090 -- View the Ray dashboard at \u001b[1m\u001b[32mhttp://127.0.0.1:8265\u001b[39m\u001b[22m\n"
     ]
    },
    {
     "name": "stdout",
     "output_type": "stream",
     "text": [
      "3.628206491470337\n"
     ]
    },
    {
     "name": "stderr",
     "output_type": "stream",
     "text": [
      "2020-12-25 11:58:57,089\tINFO services.py:1090 -- View the Ray dashboard at \u001b[1m\u001b[32mhttp://127.0.0.1:8265\u001b[39m\u001b[22m\n"
     ]
    },
    {
     "name": "stdout",
     "output_type": "stream",
     "text": [
      "3.548776388168335\n"
     ]
    },
    {
     "name": "stderr",
     "output_type": "stream",
     "text": [
      "2020-12-25 11:59:11,317\tINFO services.py:1090 -- View the Ray dashboard at \u001b[1m\u001b[32mhttp://127.0.0.1:8265\u001b[39m\u001b[22m\n"
     ]
    },
    {
     "name": "stdout",
     "output_type": "stream",
     "text": [
      "3.508805990219116\n"
     ]
    },
    {
     "name": "stderr",
     "output_type": "stream",
     "text": [
      "2020-12-25 11:59:25,333\tINFO services.py:1090 -- View the Ray dashboard at \u001b[1m\u001b[32mhttp://127.0.0.1:8265\u001b[39m\u001b[22m\n"
     ]
    },
    {
     "name": "stdout",
     "output_type": "stream",
     "text": [
      "4.710586071014404\n"
     ]
    },
    {
     "name": "stderr",
     "output_type": "stream",
     "text": [
      "2020-12-25 11:59:41,183\tINFO services.py:1090 -- View the Ray dashboard at \u001b[1m\u001b[32mhttp://127.0.0.1:8265\u001b[39m\u001b[22m\n"
     ]
    },
    {
     "name": "stdout",
     "output_type": "stream",
     "text": [
      "7.799130916595459\n"
     ]
    }
   ],
   "source": [
    "\n",
    "\n",
    "ray.init(num_cpus=6)\n",
    "import modin.pandas as mpd\n",
    "start=time.time()\n",
    "df_6cores=mpd.read_csv(link)\n",
    "end=time.time()\n",
    "ray.shutdown()\n",
    "t_6 = end-start\n",
    "print(t_6)\n",
    "\n",
    "\n",
    "ray.init(num_cpus=5)\n",
    "import modin.pandas as mpd\n",
    "start=time.time()\n",
    "df_5cores=mpd.read_csv(link)\n",
    "end=time.time()\n",
    "ray.shutdown()\n",
    "t_5 = end-start\n",
    "print(t_5)\n",
    "\n",
    "\n",
    "ray.init(num_cpus=4)\n",
    "import modin.pandas as mpd\n",
    "start=time.time()\n",
    "df_4cores=mpd.read_csv(link)\n",
    "end=time.time()\n",
    "ray.shutdown()\n",
    "t_4 = end-start\n",
    "print(t_4)\n",
    "\n",
    "\n",
    "ray.init(num_cpus=3)\n",
    "import modin.pandas as mpd\n",
    "start=time.time()\n",
    "df_3cores=mpd.read_csv(link)\n",
    "end=time.time()\n",
    "ray.shutdown()\n",
    "t_3 = end-start\n",
    "print(t_3)\n",
    "\n",
    "\n",
    "\n",
    "ray.init(num_cpus=2)\n",
    "import modin.pandas as mpd\n",
    "start=time.time()\n",
    "df_2cores=mpd.read_csv(link)\n",
    "end=time.time()\n",
    "ray.shutdown()\n",
    "t_2 = end-start\n",
    "print(t_2)\n",
    "\n",
    "\n",
    "\n",
    "ray.init(num_cpus=1)\n",
    "import modin.pandas as mpd\n",
    "start=time.time()\n",
    "df_1cores=mpd.read_csv(link)\n",
    "end=time.time()\n",
    "ray.shutdown()\n",
    "t_1 = end-start\n",
    "print(t_1)\n",
    "\n"
   ]
  },
  {
   "cell_type": "code",
   "execution_count": 13,
   "metadata": {},
   "outputs": [
    {
     "name": "stderr",
     "output_type": "stream",
     "text": [
      "2020-12-25 12:02:18,569\tINFO services.py:1090 -- View the Ray dashboard at \u001b[1m\u001b[32mhttp://127.0.0.1:8265\u001b[39m\u001b[22m\n"
     ]
    },
    {
     "name": "stdout",
     "output_type": "stream",
     "text": [
      "2.682570219039917\n"
     ]
    },
    {
     "name": "stderr",
     "output_type": "stream",
     "text": [
      "2020-12-25 12:02:32,598\tINFO services.py:1090 -- View the Ray dashboard at \u001b[1m\u001b[32mhttp://127.0.0.1:8265\u001b[39m\u001b[22m\n"
     ]
    },
    {
     "name": "stdout",
     "output_type": "stream",
     "text": [
      "2.615757942199707\n"
     ]
    },
    {
     "name": "stderr",
     "output_type": "stream",
     "text": [
      "2020-12-25 12:02:46,644\tINFO services.py:1090 -- View the Ray dashboard at \u001b[1m\u001b[32mhttp://127.0.0.1:8265\u001b[39m\u001b[22m\n"
     ]
    },
    {
     "name": "stdout",
     "output_type": "stream",
     "text": [
      "2.7474043369293213\n"
     ]
    },
    {
     "name": "stderr",
     "output_type": "stream",
     "text": [
      "2020-12-25 12:03:00,572\tINFO services.py:1090 -- View the Ray dashboard at \u001b[1m\u001b[32mhttp://127.0.0.1:8265\u001b[39m\u001b[22m\n"
     ]
    },
    {
     "name": "stdout",
     "output_type": "stream",
     "text": [
      "2.659167766571045\n"
     ]
    },
    {
     "name": "stderr",
     "output_type": "stream",
     "text": [
      "2020-12-25 12:03:14,238\tINFO services.py:1090 -- View the Ray dashboard at \u001b[1m\u001b[32mhttp://127.0.0.1:8265\u001b[39m\u001b[22m\n"
     ]
    },
    {
     "name": "stdout",
     "output_type": "stream",
     "text": [
      "2.6812939643859863\n"
     ]
    },
    {
     "name": "stderr",
     "output_type": "stream",
     "text": [
      "2020-12-25 12:03:27,928\tINFO services.py:1090 -- View the Ray dashboard at \u001b[1m\u001b[32mhttp://127.0.0.1:8265\u001b[39m\u001b[22m\n"
     ]
    },
    {
     "name": "stdout",
     "output_type": "stream",
     "text": [
      "2.6413350105285645\n"
     ]
    }
   ],
   "source": [
    "ray.init(num_cpus=12)\n",
    "import modin.pandas as mpd\n",
    "start=time.time()\n",
    "df_12cores=mpd.read_csv(link)\n",
    "end=time.time()\n",
    "ray.shutdown()\n",
    "t_12 = end-start\n",
    "print(t_12)\n",
    "\n",
    "ray.init(num_cpus=11)\n",
    "import modin.pandas as mpd\n",
    "start=time.time()\n",
    "df_11cores=mpd.read_csv(link)\n",
    "end=time.time()\n",
    "ray.shutdown()\n",
    "t_11 = end-start\n",
    "print(t_11)\n",
    "\n",
    "ray.init(num_cpus=10)\n",
    "import modin.pandas as mpd\n",
    "start=time.time()\n",
    "df_10cores=mpd.read_csv(link)\n",
    "end=time.time()\n",
    "ray.shutdown()\n",
    "t_10 = end-start\n",
    "print(t_10)\n",
    "\n",
    "\n",
    "\n",
    "\n",
    "ray.init(num_cpus=9)\n",
    "import modin.pandas as mpd\n",
    "start=time.time()\n",
    "df_9cores=mpd.read_csv(link)\n",
    "end=time.time()\n",
    "ray.shutdown()\n",
    "t_9 = end-start\n",
    "print(t_9)\n",
    "\n",
    "\n",
    "\n",
    "\n",
    "ray.init(num_cpus=8)\n",
    "import modin.pandas as mpd\n",
    "start=time.time()\n",
    "df_8cores=mpd.read_csv(link)\n",
    "end=time.time()\n",
    "ray.shutdown()\n",
    "t_8 = end-start\n",
    "print(t_8)\n",
    "\n",
    "\n",
    "\n",
    "\n",
    "\n",
    "ray.init(num_cpus=7)\n",
    "import modin.pandas as mpd\n",
    "start=time.time()\n",
    "df_7cores=mpd.read_csv(link)\n",
    "end=time.time()\n",
    "ray.shutdown()\n",
    "t_7 = end-start\n",
    "print(t_7)\n",
    "#df_1cores"
   ]
  },
  {
   "cell_type": "code",
   "execution_count": 16,
   "metadata": {},
   "outputs": [
    {
     "data": {
      "image/png": "[encoded data removed]",
      "text/plain": [
       "<Figure size 432x288 with 1 Axes>"
      ]
     },
     "metadata": {
      "needs_background": "light"
     },
     "output_type": "display_data"
    }
   ],
   "source": [
    "import matplotlib.pyplot as plt\n",
    "fig = plt.figure()\n",
    "ax = fig.add_axes([0,0,1,1])\n",
    "cpucores = ['1', '2', '3', '4', '5', '6','7', '8', '9', '10', '11', '12']\n",
    "ax.set_ylabel('time(secs) required to read csv with 5Million rows')\n",
    "ax.set_xlabel('num_cpu parameter')\n",
    "time = [t_1,t_2,t_3,t_4,t_5,t_6,t_7,t_8,t_9,t_10,t_11,t_12]\n",
    "ax.bar(cpucores,time)\n",
    "plt.title('MODIN performance')\n",
    "plt.show()"
   ]
  },
  {
   "cell_type": "code",
   "execution_count": null,
   "metadata": {},
   "outputs": [
    {
     "name": "stderr",
     "output_type": "stream",
     "text": [
      "2020-12-25 12:19:04,881\tINFO services.py:1090 -- View the Ray dashboard at \u001b[1m\u001b[32mhttp://127.0.0.1:8265\u001b[39m\u001b[22m\n"
     ]
    }
   ],
   "source": [
    "ray.init(num_cpus=6)\n",
    "df_6cores['Total Revenue'].mean()"
   ]
  },
  {
   "cell_type": "code",
   "execution_count": null,
   "metadata": {},
   "outputs": [],
   "source": []
  }
 ],
 "metadata": {
  "kernelspec": {
   "display_name": "MODIN",
   "language": "python",
   "name": "modin"
  },
  "language_info": {
   "codemirror_mode": {
    "name": "ipython",
    "version": 3
   },
   "file_extension": ".py",
   "mimetype": "text/x-python",
   "name": "python",
   "nbconvert_exporter": "python",
   "pygments_lexer": "ipython3",
   "version": "3.8.5"
  }
 },
 "nbformat": 4,
 "nbformat_minor": 4
}
